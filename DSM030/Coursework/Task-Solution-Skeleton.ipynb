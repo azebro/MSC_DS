{
 "cells": [
  {
   "cell_type": "markdown",
   "metadata": {},
   "source": [
    "### Import Libraries"
   ]
  },
  {
   "cell_type": "code",
   "execution_count": 159,
   "metadata": {},
   "outputs": [],
   "source": [
    "import numpy as np\n",
    "import pandas as pd\n",
    "import pickle\n",
    "from sklearn.naive_bayes import GaussianNB\n",
    "import nltk\n",
    "from nltk.stem.snowball import SnowballStemmer\n",
    "from nltk.stem import PorterStemmer\n",
    "from nltk import word_tokenize\n",
    "from nltk.util import ngrams\n",
    "import string\n",
    "from sklearn.feature_extraction.text import TfidfTransformer\n",
    "from sklearn.model_selection import train_test_split\n"
   ]
  },
  {
   "cell_type": "markdown",
   "metadata": {},
   "source": [
    "### Load and explore the data (4 marks)"
   ]
  },
  {
   "cell_type": "code",
   "execution_count": 160,
   "metadata": {},
   "outputs": [],
   "source": [
    "df = pd.read_csv('product-cat-dataset.csv')"
   ]
  },
  {
   "cell_type": "code",
   "execution_count": 161,
   "outputs": [
    {
     "data": {
      "text/plain": "                                         Description   Level_1 Level_2 Level_3\n0  gerb cap help keep littl on head cov warm day ...  09BF5150   C7E19    D06E\n1  newborn inf toddl boy hoody jacket oshkosh b g...  2CEC27F1   ADAD6    98CF\n2  tut ballet anym leap foxy fash ruffl tul toddl...  09BF5150   C7E19    D06E\n3  newborn inf toddl boy hoody jacket oshkosh b g...  2CEC27F1   ADAD6    98CF\n4  easy keep feel warm cozy inf toddl girl hoody ...  2CEC27F1   ADAD6    98CF",
      "text/html": "<div>\n<style scoped>\n    .dataframe tbody tr th:only-of-type {\n        vertical-align: middle;\n    }\n\n    .dataframe tbody tr th {\n        vertical-align: top;\n    }\n\n    .dataframe thead th {\n        text-align: right;\n    }\n</style>\n<table border=\"1\" class=\"dataframe\">\n  <thead>\n    <tr style=\"text-align: right;\">\n      <th></th>\n      <th>Description</th>\n      <th>Level_1</th>\n      <th>Level_2</th>\n      <th>Level_3</th>\n    </tr>\n  </thead>\n  <tbody>\n    <tr>\n      <th>0</th>\n      <td>gerb cap help keep littl on head cov warm day ...</td>\n      <td>09BF5150</td>\n      <td>C7E19</td>\n      <td>D06E</td>\n    </tr>\n    <tr>\n      <th>1</th>\n      <td>newborn inf toddl boy hoody jacket oshkosh b g...</td>\n      <td>2CEC27F1</td>\n      <td>ADAD6</td>\n      <td>98CF</td>\n    </tr>\n    <tr>\n      <th>2</th>\n      <td>tut ballet anym leap foxy fash ruffl tul toddl...</td>\n      <td>09BF5150</td>\n      <td>C7E19</td>\n      <td>D06E</td>\n    </tr>\n    <tr>\n      <th>3</th>\n      <td>newborn inf toddl boy hoody jacket oshkosh b g...</td>\n      <td>2CEC27F1</td>\n      <td>ADAD6</td>\n      <td>98CF</td>\n    </tr>\n    <tr>\n      <th>4</th>\n      <td>easy keep feel warm cozy inf toddl girl hoody ...</td>\n      <td>2CEC27F1</td>\n      <td>ADAD6</td>\n      <td>98CF</td>\n    </tr>\n  </tbody>\n</table>\n</div>"
     },
     "execution_count": 161,
     "metadata": {},
     "output_type": "execute_result"
    }
   ],
   "source": [
    "#View the first lines of dataset to check the contents\n",
    "\n",
    "df.head()"
   ],
   "metadata": {
    "collapsed": false,
    "pycharm": {
     "name": "#%%\n"
    }
   }
  },
  {
   "cell_type": "code",
   "execution_count": 162,
   "outputs": [
    {
     "name": "stdout",
     "output_type": "stream",
     "text": [
      "<class 'pandas.core.frame.DataFrame'>\n",
      "RangeIndex: 10649 entries, 0 to 10648\n",
      "Data columns (total 4 columns):\n",
      " #   Column       Non-Null Count  Dtype \n",
      "---  ------       --------------  ----- \n",
      " 0   Description  10637 non-null  object\n",
      " 1   Level_1      10649 non-null  object\n",
      " 2   Level_2      10649 non-null  object\n",
      " 3   Level_3      10649 non-null  object\n",
      "dtypes: object(4)\n",
      "memory usage: 332.9+ KB\n"
     ]
    }
   ],
   "source": [
    "#Obtain information about the different columns in the dataset including\n",
    "\n",
    "df.info()"
   ],
   "metadata": {
    "collapsed": false,
    "pycharm": {
     "name": "#%%\n"
    }
   }
  },
  {
   "cell_type": "code",
   "execution_count": 163,
   "outputs": [
    {
     "data": {
      "text/plain": "                                              Description   Level_1 Level_2  \\\ncount                                               10637     10649   10649   \nunique                                               9677        15      39   \ntop     glory gorg col fing complet outfit express moo...  B092BA29   2D5A3   \nfreq                                                   24       900     797   \n\n       Level_3  \ncount    10649  \nunique      43  \ntop       28A7  \nfreq       797  ",
      "text/html": "<div>\n<style scoped>\n    .dataframe tbody tr th:only-of-type {\n        vertical-align: middle;\n    }\n\n    .dataframe tbody tr th {\n        vertical-align: top;\n    }\n\n    .dataframe thead th {\n        text-align: right;\n    }\n</style>\n<table border=\"1\" class=\"dataframe\">\n  <thead>\n    <tr style=\"text-align: right;\">\n      <th></th>\n      <th>Description</th>\n      <th>Level_1</th>\n      <th>Level_2</th>\n      <th>Level_3</th>\n    </tr>\n  </thead>\n  <tbody>\n    <tr>\n      <th>count</th>\n      <td>10637</td>\n      <td>10649</td>\n      <td>10649</td>\n      <td>10649</td>\n    </tr>\n    <tr>\n      <th>unique</th>\n      <td>9677</td>\n      <td>15</td>\n      <td>39</td>\n      <td>43</td>\n    </tr>\n    <tr>\n      <th>top</th>\n      <td>glory gorg col fing complet outfit express moo...</td>\n      <td>B092BA29</td>\n      <td>2D5A3</td>\n      <td>28A7</td>\n    </tr>\n    <tr>\n      <th>freq</th>\n      <td>24</td>\n      <td>900</td>\n      <td>797</td>\n      <td>797</td>\n    </tr>\n  </tbody>\n</table>\n</div>"
     },
     "execution_count": 163,
     "metadata": {},
     "output_type": "execute_result"
    }
   ],
   "source": [
    "df.describe()"
   ],
   "metadata": {
    "collapsed": false,
    "pycharm": {
     "name": "#%%\n"
    }
   }
  },
  {
   "cell_type": "code",
   "execution_count": 164,
   "outputs": [
    {
     "data": {
      "text/plain": "         Description  Level_1  Level_2  Level_3\ncount          10637    10649    10649    10649\nsize           10649    10649    10649    10649\nnunique         9677       15       39       43",
      "text/html": "<div>\n<style scoped>\n    .dataframe tbody tr th:only-of-type {\n        vertical-align: middle;\n    }\n\n    .dataframe tbody tr th {\n        vertical-align: top;\n    }\n\n    .dataframe thead th {\n        text-align: right;\n    }\n</style>\n<table border=\"1\" class=\"dataframe\">\n  <thead>\n    <tr style=\"text-align: right;\">\n      <th></th>\n      <th>Description</th>\n      <th>Level_1</th>\n      <th>Level_2</th>\n      <th>Level_3</th>\n    </tr>\n  </thead>\n  <tbody>\n    <tr>\n      <th>count</th>\n      <td>10637</td>\n      <td>10649</td>\n      <td>10649</td>\n      <td>10649</td>\n    </tr>\n    <tr>\n      <th>size</th>\n      <td>10649</td>\n      <td>10649</td>\n      <td>10649</td>\n      <td>10649</td>\n    </tr>\n    <tr>\n      <th>nunique</th>\n      <td>9677</td>\n      <td>15</td>\n      <td>39</td>\n      <td>43</td>\n    </tr>\n  </tbody>\n</table>\n</div>"
     },
     "execution_count": 164,
     "metadata": {},
     "output_type": "execute_result"
    }
   ],
   "source": [
    "df.agg(['count', 'size', 'nunique'])"
   ],
   "metadata": {
    "collapsed": false,
    "pycharm": {
     "name": "#%%\n"
    }
   }
  },
  {
   "cell_type": "markdown",
   "metadata": {},
   "source": [
    "### Deal with Missing Data (4 marks)"
   ]
  },
  {
   "cell_type": "code",
   "execution_count": 165,
   "outputs": [
    {
     "data": {
      "text/plain": "                 Description Level_1 Level_2 Level_3\ncolumn type           object  object  object  object\nnull values (nb)          12       0       0       0\nnull values (%)     0.112687     0.0     0.0     0.0",
      "text/html": "<div>\n<style scoped>\n    .dataframe tbody tr th:only-of-type {\n        vertical-align: middle;\n    }\n\n    .dataframe tbody tr th {\n        vertical-align: top;\n    }\n\n    .dataframe thead th {\n        text-align: right;\n    }\n</style>\n<table border=\"1\" class=\"dataframe\">\n  <thead>\n    <tr style=\"text-align: right;\">\n      <th></th>\n      <th>Description</th>\n      <th>Level_1</th>\n      <th>Level_2</th>\n      <th>Level_3</th>\n    </tr>\n  </thead>\n  <tbody>\n    <tr>\n      <th>column type</th>\n      <td>object</td>\n      <td>object</td>\n      <td>object</td>\n      <td>object</td>\n    </tr>\n    <tr>\n      <th>null values (nb)</th>\n      <td>12</td>\n      <td>0</td>\n      <td>0</td>\n      <td>0</td>\n    </tr>\n    <tr>\n      <th>null values (%)</th>\n      <td>0.112687</td>\n      <td>0.0</td>\n      <td>0.0</td>\n      <td>0.0</td>\n    </tr>\n  </tbody>\n</table>\n</div>"
     },
     "metadata": {},
     "output_type": "display_data"
    }
   ],
   "source": [
    "# Check if data has missing values in the Description column\n",
    "#Check column distribution of null values and their proportions\n",
    "\n",
    "Column_Info= pd.DataFrame(df.dtypes).T.rename(index={0:'column type'})\n",
    "Column_Info= Column_Info.append(pd.DataFrame(df.isnull().sum()).T.rename(index={0:'null values (nb)'}))\n",
    "Column_Info= Column_Info.append(pd.DataFrame(df.isnull().sum()/df.shape[0]*100).T.\n",
    "                                rename(index={0:'null values (%)'}))\n",
    "display(Column_Info)"
   ],
   "metadata": {
    "collapsed": false,
    "pycharm": {
     "name": "#%%\n"
    }
   }
  },
  {
   "cell_type": "code",
   "execution_count": 166,
   "metadata": {},
   "outputs": [
    {
     "data": {
      "text/plain": "Description    False\nLevel_1        False\nLevel_2        False\nLevel_3        False\ndtype: bool"
     },
     "execution_count": 166,
     "metadata": {},
     "output_type": "execute_result"
    }
   ],
   "source": [
    "# Deal with missing values\n",
    "#Remove Null Values\n",
    "df.dropna(axis = 0, inplace = True)\n",
    "\n",
    "#Check null values in dataset and technical info on the columns\n",
    "df.isnull().any()\n"
   ]
  },
  {
   "cell_type": "code",
   "execution_count": 166,
   "metadata": {},
   "outputs": [],
   "source": [
    "\n"
   ]
  },
  {
   "cell_type": "markdown",
   "metadata": {},
   "source": [
    "### Drop Classes where the number of instances is < 10 (4 marks)"
   ]
  },
  {
   "cell_type": "code",
   "execution_count": 167,
   "outputs": [],
   "source": [
    "def delete_instances(data, level):\n",
    "    level_data = data[[level, 'Description']]\n",
    "    level_grouped =  level_data.groupby([level]).size().reset_index(name='counts')\n",
    "    instances_to_delete = level_grouped[level_grouped['counts'] < 10][level].tolist()\n",
    "    print(instances_to_delete)\n",
    "    data.drop(data[data[level].isin(instances_to_delete)].index, inplace=True)\n",
    "    return data\n"
   ],
   "metadata": {
    "collapsed": false,
    "pycharm": {
     "name": "#%%\n"
    }
   }
  },
  {
   "cell_type": "code",
   "execution_count": 168,
   "metadata": {},
   "outputs": [
    {
     "name": "stdout",
     "output_type": "stream",
     "text": [
      "[]\n"
     ]
    }
   ],
   "source": [
    "# Apply to Level_1\n",
    "df = delete_instances(df, 'Level_1')"
   ]
  },
  {
   "cell_type": "code",
   "execution_count": 169,
   "metadata": {},
   "outputs": [
    {
     "name": "stdout",
     "output_type": "stream",
     "text": [
      "['80D5B', 'A6301', 'C66C5']\n"
     ]
    }
   ],
   "source": [
    "# Apply to Level_2\n",
    "df = delete_instances(df, 'Level_2')"
   ]
  },
  {
   "cell_type": "code",
   "execution_count": 170,
   "metadata": {},
   "outputs": [
    {
     "name": "stdout",
     "output_type": "stream",
     "text": [
      "['CF52', 'DE3D']\n"
     ]
    }
   ],
   "source": [
    "# Apply to Level_3\n",
    "df = delete_instances(df, 'Level_3')\n"
   ]
  },
  {
   "cell_type": "markdown",
   "metadata": {},
   "source": [
    "### Now let's write a Function to Prepare Text (4 marks)\n",
    "We will apply it to our DataFrame later on\n",
    "\n",
    "* This function receives a text string and performs the following:\n",
    "* Convert text to lower case\n",
    "* Remove punctuation marks\n",
    "* Apply stemming using the popular Snowball or Porter Stemmer (optional)\n",
    "* Apply NGram Tokenisation\n",
    "* Return the tokenised text as a list of strings"
   ]
  },
  {
   "cell_type": "code",
   "execution_count": 171,
   "metadata": {},
   "outputs": [],
   "source": [
    "\n",
    "\n",
    "#Download packages for nltk\n",
    "#nltk.download()\n",
    "\n",
    "\n",
    "def process_text(text, n = 1):\n",
    "    \"\"\"\n",
    "    Takes in a string of text, then performs the following:\n",
    "    1. Convert text to lower case and remove all punctuation\n",
    "    2. Optionally apply stemming\n",
    "    3. Apply Ngram Tokenisation\n",
    "    4. Returns the tokenised text as a list\n",
    "    \"\"\"\n",
    "    # write steps here\n",
    "\n",
    "    #Explicitly calling lower here to comply with instructions, however lower is being called anyway by PorterStemmer\n",
    "    text = text.lower()\n",
    "    #Remove punctuation\n",
    "    text = text.translate(str.maketrans('', '', string.punctuation))\n",
    "    #Tokenise\n",
    "    tokens = word_tokenize(text)\n",
    "    #Apply stemming\n",
    "    ss = SnowballStemmer(language='english')\n",
    "    stemmed_text = [ss.stem(word) for word in tokens]\n",
    "    #Apply ngram\n",
    "    result = [ ' '.join(grams) for grams in ngrams(stemmed_text, n)]\n",
    "    \n",
    "    return result\n",
    "\n",
    "\n",
    "\n",
    "\n"
   ]
  },
  {
   "cell_type": "code",
   "execution_count": 172,
   "metadata": {},
   "outputs": [
    {
     "data": {
      "text/plain": "['here were test',\n 'were test the',\n 'test the processtext',\n 'the processtext function',\n 'processtext function result',\n 'function result are',\n 'result are as',\n 'are as follow']"
     },
     "execution_count": 172,
     "metadata": {},
     "output_type": "execute_result"
    }
   ],
   "source": [
    "# Here is an example function call\n",
    "process_text(\"Here we're testing the process_text function, results are as follows:\", n = 3)"
   ]
  },
  {
   "cell_type": "code",
   "execution_count": 173,
   "metadata": {},
   "outputs": [
    {
     "data": {
      "text/plain": "['here were test',\n 'were test the',\n 'test the processtext',\n 'the processtext function',\n 'processtext function result',\n 'function result are',\n 'result are as',\n 'are as follow']"
     },
     "execution_count": 173,
     "metadata": {},
     "output_type": "execute_result"
    }
   ],
   "source": [
    "# Results should look like this:\n",
    "['here were test',\n",
    " 'were test the',\n",
    " 'test the processtext',\n",
    " 'the processtext function',\n",
    " 'processtext function result',\n",
    " 'function result are',\n",
    " 'result are as',\n",
    " 'are as follow']"
   ]
  },
  {
   "cell_type": "markdown",
   "metadata": {},
   "source": [
    "### Now let's apply TF-IDF to extract features from plain text (10 marks)"
   ]
  },
  {
   "cell_type": "code",
   "execution_count": 174,
   "metadata": {},
   "outputs": [],
   "source": [
    "# Might take a while...\n",
    "# Here you apply the process_text function to the Description column of the data\n",
    "# Then you pass the results to the bag of words tranformer\n",
    "# See here: https://scikit-learn.org/stable/modules/generated/sklearn.feature_extraction.text.CountVectorizer.html\n",
    "\n",
    "from sklearn.feature_extraction.text import CountVectorizer\n",
    "#df2['Ngrams'] = df2['Description'].apply(lambda x: process_text(x))\n",
    "cv = CountVectorizer(tokenizer=process_text)\n",
    "X = cv.fit_transform(df['Description'].tolist())\n"
   ]
  },
  {
   "cell_type": "code",
   "execution_count": 175,
   "outputs": [
    {
     "data": {
      "text/plain": "array([[0, 0, 0, ..., 0, 0, 0],\n       [0, 0, 0, ..., 0, 0, 0],\n       [0, 0, 0, ..., 0, 0, 0],\n       ...,\n       [0, 0, 0, ..., 0, 0, 0],\n       [0, 0, 0, ..., 0, 0, 0],\n       [0, 0, 0, ..., 0, 0, 0]])"
     },
     "execution_count": 175,
     "metadata": {},
     "output_type": "execute_result"
    }
   ],
   "source": [
    "X.toarray()\n"
   ],
   "metadata": {
    "collapsed": false,
    "pycharm": {
     "name": "#%%\n"
    }
   }
  },
  {
   "cell_type": "markdown",
   "metadata": {},
   "source": [
    "Now we can use .transform on our Bag-of-Words (bow) transformed object and transform the entire DataFrame of text file contents. Let's go ahead and check out how the bag-of-words counts for the entire corpus in a large, sparse matrix:"
   ]
  },
  {
   "cell_type": "code",
   "execution_count": 176,
   "metadata": {},
   "outputs": [],
   "source": [
    "# After that you pass the result of the previous step to sklearn's TfidfTransformer\n",
    "# which will convert them into a feature matrix\n",
    "# See here: https://scikit-learn.org/stable/modules/generated/sklearn.feature_extraction.text.TfidfTransformer.html\n",
    "\n",
    "\n",
    "\n",
    "tfid = TfidfTransformer()\n",
    "text_tfidf = tfid.fit_transform(X)\n",
    "    \n"
   ]
  },
  {
   "cell_type": "code",
   "execution_count": 177,
   "metadata": {},
   "outputs": [],
   "source": [
    "# The resulting matrix is in sparse format, we can transform it into dense\n",
    "# Code prepared for you so you can see what results look like\n",
    "text_tfidf = pd.DataFrame(text_tfidf.toarray())"
   ]
  },
  {
   "cell_type": "code",
   "execution_count": 178,
   "metadata": {},
   "outputs": [
    {
     "name": "stdout",
     "output_type": "stream",
     "text": [
      "(10627, 16320)\n",
      "(10627, 4)\n",
      "(10627, 16320)\n"
     ]
    }
   ],
   "source": [
    "# This is an example result, the matrix will contain lots of zero values, that is expected\n",
    "# Some values will be non-zero\n",
    "#text_tfidf.head()\n",
    "print(text_tfidf.shape)\n",
    "print(df.shape)\n",
    "print(X.shape)"
   ]
  },
  {
   "cell_type": "markdown",
   "metadata": {},
   "source": [
    "# Now the Data is Ready for Classifier Usage"
   ]
  },
  {
   "cell_type": "markdown",
   "metadata": {},
   "source": [
    "### Split Data into Train and Test sets (4 marks)"
   ]
  },
  {
   "cell_type": "code",
   "execution_count": 179,
   "metadata": {},
   "outputs": [],
   "source": [
    "# Train/Test split\n",
    "\n",
    "\n",
    "combined = text_tfidf.copy()\n",
    "combined['Level_1'] = df['Level_1'].astype(str).values\n",
    "combined['Level_2'] = df['Level_2'].astype(str).values\n",
    "combined['Level_3'] = df['Level_3'].astype(str).values\n",
    "\n",
    "\n",
    "train_data, test_data = train_test_split(combined, test_size=0.2, random_state=25)\n"
   ]
  },
  {
   "cell_type": "code",
   "execution_count": 180,
   "outputs": [
    {
     "name": "stdout",
     "output_type": "stream",
     "text": [
      "(10627, 16323)\n",
      "(10627, 4)\n"
     ]
    }
   ],
   "source": [
    "print(combined.shape)\n",
    "print(df.shape)"
   ],
   "metadata": {
    "collapsed": false,
    "pycharm": {
     "name": "#%%\n"
    }
   }
  },
  {
   "cell_type": "code",
   "execution_count": 181,
   "outputs": [
    {
     "data": {
      "text/plain": "             0    1    2    3    4    5    6    7    8    9  ...  16313  \\\n1572   0.04961  0.0  0.0  0.0  0.0  0.0  0.0  0.0  0.0  0.0  ...    0.0   \n1731   0.00000  0.0  0.0  0.0  0.0  0.0  0.0  0.0  0.0  0.0  ...    0.0   \n1712   0.00000  0.0  0.0  0.0  0.0  0.0  0.0  0.0  0.0  0.0  ...    0.0   \n4554   0.00000  0.0  0.0  0.0  0.0  0.0  0.0  0.0  0.0  0.0  ...    0.0   \n4705   0.00000  0.0  0.0  0.0  0.0  0.0  0.0  0.0  0.0  0.0  ...    0.0   \n...        ...  ...  ...  ...  ...  ...  ...  ...  ...  ...  ...    ...   \n8447   0.00000  0.0  0.0  0.0  0.0  0.0  0.0  0.0  0.0  0.0  ...    0.0   \n2934   0.00000  0.0  0.0  0.0  0.0  0.0  0.0  0.0  0.0  0.0  ...    0.0   \n10383  0.00000  0.0  0.0  0.0  0.0  0.0  0.0  0.0  0.0  0.0  ...    0.0   \n6618   0.00000  0.0  0.0  0.0  0.0  0.0  0.0  0.0  0.0  0.0  ...    0.0   \n8510   0.00000  0.0  0.0  0.0  0.0  0.0  0.0  0.0  0.0  0.0  ...    0.0   \n\n       16314  16315  16316  16317  16318  16319   Level_1  Level_2  Level_3  \n1572     0.0    0.0    0.0    0.0    0.0    0.0  69286F45    2D5A3     28A7  \n1731     0.0    0.0    0.0    0.0    0.0    0.0  69286F45    2D5A3     28A7  \n1712     0.0    0.0    0.0    0.0    0.0    0.0  69286F45    2D5A3     28A7  \n4554     0.0    0.0    0.0    0.0    0.0    0.0  EFEF723B    CB803     627D  \n4705     0.0    0.0    0.0    0.0    0.0    0.0  EFEF723B    CB803     627D  \n...      ...    ...    ...    ...    ...    ...       ...      ...      ...  \n8447     0.0    0.0    0.0    0.0    0.0    0.0  B092BA29    5A8AB     AA6B  \n2934     0.0    0.0    0.0    0.0    0.0    0.0  AAC8EE56    9B69F     80C4  \n10383    0.0    0.0    0.0    0.0    0.0    0.0  4C3D8686    223B2     F213  \n6618     0.0    0.0    0.0    0.0    0.0    0.0  014303D1    77F62     5AE1  \n8510     0.0    0.0    0.0    0.0    0.0    0.0  B092BA29    5A8AB     AA6B  \n\n[8501 rows x 16323 columns]",
      "text/html": "<div>\n<style scoped>\n    .dataframe tbody tr th:only-of-type {\n        vertical-align: middle;\n    }\n\n    .dataframe tbody tr th {\n        vertical-align: top;\n    }\n\n    .dataframe thead th {\n        text-align: right;\n    }\n</style>\n<table border=\"1\" class=\"dataframe\">\n  <thead>\n    <tr style=\"text-align: right;\">\n      <th></th>\n      <th>0</th>\n      <th>1</th>\n      <th>2</th>\n      <th>3</th>\n      <th>4</th>\n      <th>5</th>\n      <th>6</th>\n      <th>7</th>\n      <th>8</th>\n      <th>9</th>\n      <th>...</th>\n      <th>16313</th>\n      <th>16314</th>\n      <th>16315</th>\n      <th>16316</th>\n      <th>16317</th>\n      <th>16318</th>\n      <th>16319</th>\n      <th>Level_1</th>\n      <th>Level_2</th>\n      <th>Level_3</th>\n    </tr>\n  </thead>\n  <tbody>\n    <tr>\n      <th>1572</th>\n      <td>0.04961</td>\n      <td>0.0</td>\n      <td>0.0</td>\n      <td>0.0</td>\n      <td>0.0</td>\n      <td>0.0</td>\n      <td>0.0</td>\n      <td>0.0</td>\n      <td>0.0</td>\n      <td>0.0</td>\n      <td>...</td>\n      <td>0.0</td>\n      <td>0.0</td>\n      <td>0.0</td>\n      <td>0.0</td>\n      <td>0.0</td>\n      <td>0.0</td>\n      <td>0.0</td>\n      <td>69286F45</td>\n      <td>2D5A3</td>\n      <td>28A7</td>\n    </tr>\n    <tr>\n      <th>1731</th>\n      <td>0.00000</td>\n      <td>0.0</td>\n      <td>0.0</td>\n      <td>0.0</td>\n      <td>0.0</td>\n      <td>0.0</td>\n      <td>0.0</td>\n      <td>0.0</td>\n      <td>0.0</td>\n      <td>0.0</td>\n      <td>...</td>\n      <td>0.0</td>\n      <td>0.0</td>\n      <td>0.0</td>\n      <td>0.0</td>\n      <td>0.0</td>\n      <td>0.0</td>\n      <td>0.0</td>\n      <td>69286F45</td>\n      <td>2D5A3</td>\n      <td>28A7</td>\n    </tr>\n    <tr>\n      <th>1712</th>\n      <td>0.00000</td>\n      <td>0.0</td>\n      <td>0.0</td>\n      <td>0.0</td>\n      <td>0.0</td>\n      <td>0.0</td>\n      <td>0.0</td>\n      <td>0.0</td>\n      <td>0.0</td>\n      <td>0.0</td>\n      <td>...</td>\n      <td>0.0</td>\n      <td>0.0</td>\n      <td>0.0</td>\n      <td>0.0</td>\n      <td>0.0</td>\n      <td>0.0</td>\n      <td>0.0</td>\n      <td>69286F45</td>\n      <td>2D5A3</td>\n      <td>28A7</td>\n    </tr>\n    <tr>\n      <th>4554</th>\n      <td>0.00000</td>\n      <td>0.0</td>\n      <td>0.0</td>\n      <td>0.0</td>\n      <td>0.0</td>\n      <td>0.0</td>\n      <td>0.0</td>\n      <td>0.0</td>\n      <td>0.0</td>\n      <td>0.0</td>\n      <td>...</td>\n      <td>0.0</td>\n      <td>0.0</td>\n      <td>0.0</td>\n      <td>0.0</td>\n      <td>0.0</td>\n      <td>0.0</td>\n      <td>0.0</td>\n      <td>EFEF723B</td>\n      <td>CB803</td>\n      <td>627D</td>\n    </tr>\n    <tr>\n      <th>4705</th>\n      <td>0.00000</td>\n      <td>0.0</td>\n      <td>0.0</td>\n      <td>0.0</td>\n      <td>0.0</td>\n      <td>0.0</td>\n      <td>0.0</td>\n      <td>0.0</td>\n      <td>0.0</td>\n      <td>0.0</td>\n      <td>...</td>\n      <td>0.0</td>\n      <td>0.0</td>\n      <td>0.0</td>\n      <td>0.0</td>\n      <td>0.0</td>\n      <td>0.0</td>\n      <td>0.0</td>\n      <td>EFEF723B</td>\n      <td>CB803</td>\n      <td>627D</td>\n    </tr>\n    <tr>\n      <th>...</th>\n      <td>...</td>\n      <td>...</td>\n      <td>...</td>\n      <td>...</td>\n      <td>...</td>\n      <td>...</td>\n      <td>...</td>\n      <td>...</td>\n      <td>...</td>\n      <td>...</td>\n      <td>...</td>\n      <td>...</td>\n      <td>...</td>\n      <td>...</td>\n      <td>...</td>\n      <td>...</td>\n      <td>...</td>\n      <td>...</td>\n      <td>...</td>\n      <td>...</td>\n      <td>...</td>\n    </tr>\n    <tr>\n      <th>8447</th>\n      <td>0.00000</td>\n      <td>0.0</td>\n      <td>0.0</td>\n      <td>0.0</td>\n      <td>0.0</td>\n      <td>0.0</td>\n      <td>0.0</td>\n      <td>0.0</td>\n      <td>0.0</td>\n      <td>0.0</td>\n      <td>...</td>\n      <td>0.0</td>\n      <td>0.0</td>\n      <td>0.0</td>\n      <td>0.0</td>\n      <td>0.0</td>\n      <td>0.0</td>\n      <td>0.0</td>\n      <td>B092BA29</td>\n      <td>5A8AB</td>\n      <td>AA6B</td>\n    </tr>\n    <tr>\n      <th>2934</th>\n      <td>0.00000</td>\n      <td>0.0</td>\n      <td>0.0</td>\n      <td>0.0</td>\n      <td>0.0</td>\n      <td>0.0</td>\n      <td>0.0</td>\n      <td>0.0</td>\n      <td>0.0</td>\n      <td>0.0</td>\n      <td>...</td>\n      <td>0.0</td>\n      <td>0.0</td>\n      <td>0.0</td>\n      <td>0.0</td>\n      <td>0.0</td>\n      <td>0.0</td>\n      <td>0.0</td>\n      <td>AAC8EE56</td>\n      <td>9B69F</td>\n      <td>80C4</td>\n    </tr>\n    <tr>\n      <th>10383</th>\n      <td>0.00000</td>\n      <td>0.0</td>\n      <td>0.0</td>\n      <td>0.0</td>\n      <td>0.0</td>\n      <td>0.0</td>\n      <td>0.0</td>\n      <td>0.0</td>\n      <td>0.0</td>\n      <td>0.0</td>\n      <td>...</td>\n      <td>0.0</td>\n      <td>0.0</td>\n      <td>0.0</td>\n      <td>0.0</td>\n      <td>0.0</td>\n      <td>0.0</td>\n      <td>0.0</td>\n      <td>4C3D8686</td>\n      <td>223B2</td>\n      <td>F213</td>\n    </tr>\n    <tr>\n      <th>6618</th>\n      <td>0.00000</td>\n      <td>0.0</td>\n      <td>0.0</td>\n      <td>0.0</td>\n      <td>0.0</td>\n      <td>0.0</td>\n      <td>0.0</td>\n      <td>0.0</td>\n      <td>0.0</td>\n      <td>0.0</td>\n      <td>...</td>\n      <td>0.0</td>\n      <td>0.0</td>\n      <td>0.0</td>\n      <td>0.0</td>\n      <td>0.0</td>\n      <td>0.0</td>\n      <td>0.0</td>\n      <td>014303D1</td>\n      <td>77F62</td>\n      <td>5AE1</td>\n    </tr>\n    <tr>\n      <th>8510</th>\n      <td>0.00000</td>\n      <td>0.0</td>\n      <td>0.0</td>\n      <td>0.0</td>\n      <td>0.0</td>\n      <td>0.0</td>\n      <td>0.0</td>\n      <td>0.0</td>\n      <td>0.0</td>\n      <td>0.0</td>\n      <td>...</td>\n      <td>0.0</td>\n      <td>0.0</td>\n      <td>0.0</td>\n      <td>0.0</td>\n      <td>0.0</td>\n      <td>0.0</td>\n      <td>0.0</td>\n      <td>B092BA29</td>\n      <td>5A8AB</td>\n      <td>AA6B</td>\n    </tr>\n  </tbody>\n</table>\n<p>8501 rows × 16323 columns</p>\n</div>"
     },
     "execution_count": 181,
     "metadata": {},
     "output_type": "execute_result"
    }
   ],
   "source": [
    "train_data"
   ],
   "metadata": {
    "collapsed": false,
    "pycharm": {
     "name": "#%%\n"
    }
   }
  },
  {
   "cell_type": "code",
   "execution_count": 182,
   "outputs": [
    {
     "data": {
      "text/plain": "        0    1    2    3    4    5    6    7    8    9  ...  16313  16314  \\\n3472  0.0  0.0  0.0  0.0  0.0  0.0  0.0  0.0  0.0  0.0  ...    0.0    0.0   \n5681  0.0  0.0  0.0  0.0  0.0  0.0  0.0  0.0  0.0  0.0  ...    0.0    0.0   \n6364  0.0  0.0  0.0  0.0  0.0  0.0  0.0  0.0  0.0  0.0  ...    0.0    0.0   \n9073  0.0  0.0  0.0  0.0  0.0  0.0  0.0  0.0  0.0  0.0  ...    0.0    0.0   \n4351  0.0  0.0  0.0  0.0  0.0  0.0  0.0  0.0  0.0  0.0  ...    0.0    0.0   \n...   ...  ...  ...  ...  ...  ...  ...  ...  ...  ...  ...    ...    ...   \n8229  0.0  0.0  0.0  0.0  0.0  0.0  0.0  0.0  0.0  0.0  ...    0.0    0.0   \n6080  0.0  0.0  0.0  0.0  0.0  0.0  0.0  0.0  0.0  0.0  ...    0.0    0.0   \n8580  0.0  0.0  0.0  0.0  0.0  0.0  0.0  0.0  0.0  0.0  ...    0.0    0.0   \n5532  0.0  0.0  0.0  0.0  0.0  0.0  0.0  0.0  0.0  0.0  ...    0.0    0.0   \n9884  0.0  0.0  0.0  0.0  0.0  0.0  0.0  0.0  0.0  0.0  ...    0.0    0.0   \n\n      16315  16316  16317  16318  16319   Level_1  Level_2  Level_3  \n3472    0.0    0.0    0.0    0.0    0.0  09BF5150    F824F     7288  \n5681    0.0    0.0    0.0    0.0    0.0  4513C920    E69F5     DDD5  \n6364    0.0    0.0    0.0    0.0    0.0  57164AC1    94728     5912  \n9073    0.0    0.0    0.0    0.0    0.0  B092BA29    375FE     1F61  \n4351    0.0    0.0    0.0    0.0    0.0  EFEF723B    CB803     627D  \n...     ...    ...    ...    ...    ...       ...      ...      ...  \n8229    0.0    0.0    0.0    0.0    0.0  90A8B052    C719A     A0E2  \n6080    0.0    0.0    0.0    0.0    0.0  35E04739    390F1     6856  \n8580    0.0    0.0    0.0    0.0    0.0  B092BA29    5A8AB     AA6B  \n5532    0.0    0.0    0.0    0.0    0.0  4513C920    F4055     7C00  \n9884    0.0    0.0    0.0    0.0    0.0  D410C91A    ACD06     33D1  \n\n[2126 rows x 16323 columns]",
      "text/html": "<div>\n<style scoped>\n    .dataframe tbody tr th:only-of-type {\n        vertical-align: middle;\n    }\n\n    .dataframe tbody tr th {\n        vertical-align: top;\n    }\n\n    .dataframe thead th {\n        text-align: right;\n    }\n</style>\n<table border=\"1\" class=\"dataframe\">\n  <thead>\n    <tr style=\"text-align: right;\">\n      <th></th>\n      <th>0</th>\n      <th>1</th>\n      <th>2</th>\n      <th>3</th>\n      <th>4</th>\n      <th>5</th>\n      <th>6</th>\n      <th>7</th>\n      <th>8</th>\n      <th>9</th>\n      <th>...</th>\n      <th>16313</th>\n      <th>16314</th>\n      <th>16315</th>\n      <th>16316</th>\n      <th>16317</th>\n      <th>16318</th>\n      <th>16319</th>\n      <th>Level_1</th>\n      <th>Level_2</th>\n      <th>Level_3</th>\n    </tr>\n  </thead>\n  <tbody>\n    <tr>\n      <th>3472</th>\n      <td>0.0</td>\n      <td>0.0</td>\n      <td>0.0</td>\n      <td>0.0</td>\n      <td>0.0</td>\n      <td>0.0</td>\n      <td>0.0</td>\n      <td>0.0</td>\n      <td>0.0</td>\n      <td>0.0</td>\n      <td>...</td>\n      <td>0.0</td>\n      <td>0.0</td>\n      <td>0.0</td>\n      <td>0.0</td>\n      <td>0.0</td>\n      <td>0.0</td>\n      <td>0.0</td>\n      <td>09BF5150</td>\n      <td>F824F</td>\n      <td>7288</td>\n    </tr>\n    <tr>\n      <th>5681</th>\n      <td>0.0</td>\n      <td>0.0</td>\n      <td>0.0</td>\n      <td>0.0</td>\n      <td>0.0</td>\n      <td>0.0</td>\n      <td>0.0</td>\n      <td>0.0</td>\n      <td>0.0</td>\n      <td>0.0</td>\n      <td>...</td>\n      <td>0.0</td>\n      <td>0.0</td>\n      <td>0.0</td>\n      <td>0.0</td>\n      <td>0.0</td>\n      <td>0.0</td>\n      <td>0.0</td>\n      <td>4513C920</td>\n      <td>E69F5</td>\n      <td>DDD5</td>\n    </tr>\n    <tr>\n      <th>6364</th>\n      <td>0.0</td>\n      <td>0.0</td>\n      <td>0.0</td>\n      <td>0.0</td>\n      <td>0.0</td>\n      <td>0.0</td>\n      <td>0.0</td>\n      <td>0.0</td>\n      <td>0.0</td>\n      <td>0.0</td>\n      <td>...</td>\n      <td>0.0</td>\n      <td>0.0</td>\n      <td>0.0</td>\n      <td>0.0</td>\n      <td>0.0</td>\n      <td>0.0</td>\n      <td>0.0</td>\n      <td>57164AC1</td>\n      <td>94728</td>\n      <td>5912</td>\n    </tr>\n    <tr>\n      <th>9073</th>\n      <td>0.0</td>\n      <td>0.0</td>\n      <td>0.0</td>\n      <td>0.0</td>\n      <td>0.0</td>\n      <td>0.0</td>\n      <td>0.0</td>\n      <td>0.0</td>\n      <td>0.0</td>\n      <td>0.0</td>\n      <td>...</td>\n      <td>0.0</td>\n      <td>0.0</td>\n      <td>0.0</td>\n      <td>0.0</td>\n      <td>0.0</td>\n      <td>0.0</td>\n      <td>0.0</td>\n      <td>B092BA29</td>\n      <td>375FE</td>\n      <td>1F61</td>\n    </tr>\n    <tr>\n      <th>4351</th>\n      <td>0.0</td>\n      <td>0.0</td>\n      <td>0.0</td>\n      <td>0.0</td>\n      <td>0.0</td>\n      <td>0.0</td>\n      <td>0.0</td>\n      <td>0.0</td>\n      <td>0.0</td>\n      <td>0.0</td>\n      <td>...</td>\n      <td>0.0</td>\n      <td>0.0</td>\n      <td>0.0</td>\n      <td>0.0</td>\n      <td>0.0</td>\n      <td>0.0</td>\n      <td>0.0</td>\n      <td>EFEF723B</td>\n      <td>CB803</td>\n      <td>627D</td>\n    </tr>\n    <tr>\n      <th>...</th>\n      <td>...</td>\n      <td>...</td>\n      <td>...</td>\n      <td>...</td>\n      <td>...</td>\n      <td>...</td>\n      <td>...</td>\n      <td>...</td>\n      <td>...</td>\n      <td>...</td>\n      <td>...</td>\n      <td>...</td>\n      <td>...</td>\n      <td>...</td>\n      <td>...</td>\n      <td>...</td>\n      <td>...</td>\n      <td>...</td>\n      <td>...</td>\n      <td>...</td>\n      <td>...</td>\n    </tr>\n    <tr>\n      <th>8229</th>\n      <td>0.0</td>\n      <td>0.0</td>\n      <td>0.0</td>\n      <td>0.0</td>\n      <td>0.0</td>\n      <td>0.0</td>\n      <td>0.0</td>\n      <td>0.0</td>\n      <td>0.0</td>\n      <td>0.0</td>\n      <td>...</td>\n      <td>0.0</td>\n      <td>0.0</td>\n      <td>0.0</td>\n      <td>0.0</td>\n      <td>0.0</td>\n      <td>0.0</td>\n      <td>0.0</td>\n      <td>90A8B052</td>\n      <td>C719A</td>\n      <td>A0E2</td>\n    </tr>\n    <tr>\n      <th>6080</th>\n      <td>0.0</td>\n      <td>0.0</td>\n      <td>0.0</td>\n      <td>0.0</td>\n      <td>0.0</td>\n      <td>0.0</td>\n      <td>0.0</td>\n      <td>0.0</td>\n      <td>0.0</td>\n      <td>0.0</td>\n      <td>...</td>\n      <td>0.0</td>\n      <td>0.0</td>\n      <td>0.0</td>\n      <td>0.0</td>\n      <td>0.0</td>\n      <td>0.0</td>\n      <td>0.0</td>\n      <td>35E04739</td>\n      <td>390F1</td>\n      <td>6856</td>\n    </tr>\n    <tr>\n      <th>8580</th>\n      <td>0.0</td>\n      <td>0.0</td>\n      <td>0.0</td>\n      <td>0.0</td>\n      <td>0.0</td>\n      <td>0.0</td>\n      <td>0.0</td>\n      <td>0.0</td>\n      <td>0.0</td>\n      <td>0.0</td>\n      <td>...</td>\n      <td>0.0</td>\n      <td>0.0</td>\n      <td>0.0</td>\n      <td>0.0</td>\n      <td>0.0</td>\n      <td>0.0</td>\n      <td>0.0</td>\n      <td>B092BA29</td>\n      <td>5A8AB</td>\n      <td>AA6B</td>\n    </tr>\n    <tr>\n      <th>5532</th>\n      <td>0.0</td>\n      <td>0.0</td>\n      <td>0.0</td>\n      <td>0.0</td>\n      <td>0.0</td>\n      <td>0.0</td>\n      <td>0.0</td>\n      <td>0.0</td>\n      <td>0.0</td>\n      <td>0.0</td>\n      <td>...</td>\n      <td>0.0</td>\n      <td>0.0</td>\n      <td>0.0</td>\n      <td>0.0</td>\n      <td>0.0</td>\n      <td>0.0</td>\n      <td>0.0</td>\n      <td>4513C920</td>\n      <td>F4055</td>\n      <td>7C00</td>\n    </tr>\n    <tr>\n      <th>9884</th>\n      <td>0.0</td>\n      <td>0.0</td>\n      <td>0.0</td>\n      <td>0.0</td>\n      <td>0.0</td>\n      <td>0.0</td>\n      <td>0.0</td>\n      <td>0.0</td>\n      <td>0.0</td>\n      <td>0.0</td>\n      <td>...</td>\n      <td>0.0</td>\n      <td>0.0</td>\n      <td>0.0</td>\n      <td>0.0</td>\n      <td>0.0</td>\n      <td>0.0</td>\n      <td>0.0</td>\n      <td>D410C91A</td>\n      <td>ACD06</td>\n      <td>33D1</td>\n    </tr>\n  </tbody>\n</table>\n<p>2126 rows × 16323 columns</p>\n</div>"
     },
     "execution_count": 182,
     "metadata": {},
     "output_type": "execute_result"
    }
   ],
   "source": [
    "test_data"
   ],
   "metadata": {
    "collapsed": false,
    "pycharm": {
     "name": "#%%\n"
    }
   }
  },
  {
   "cell_type": "code",
   "execution_count": 183,
   "outputs": [],
   "source": [
    "X_train = train_data.iloc[:,:-3]\n",
    "X_test = test_data.iloc[:,:-3]\n",
    "y_train = train_data.iloc[:,-3:]\n",
    "y_test = test_data.iloc[:,-3:]"
   ],
   "metadata": {
    "collapsed": false,
    "pycharm": {
     "name": "#%%\n"
    }
   }
  },
  {
   "cell_type": "code",
   "execution_count": 184,
   "metadata": {},
   "outputs": [],
   "source": [
    "# You might need to reset index in each dataframe (depends on you how you do things)\n",
    "# done for you to make it clearer\n",
    "X_train.reset_index(inplace=True, drop=True)\n",
    "X_test.reset_index(inplace=True, drop=True)\n",
    "y_train.reset_index(inplace=True, drop=True)\n",
    "y_test.reset_index(inplace=True, drop=True)"
   ]
  },
  {
   "cell_type": "code",
   "execution_count": 185,
   "outputs": [
    {
     "data": {
      "text/plain": "       Level_1 Level_2 Level_3\n0     69286F45   2D5A3    28A7\n1     69286F45   2D5A3    28A7\n2     69286F45   2D5A3    28A7\n3     EFEF723B   CB803    627D\n4     EFEF723B   CB803    627D\n...        ...     ...     ...\n8496  B092BA29   5A8AB    AA6B\n8497  AAC8EE56   9B69F    80C4\n8498  4C3D8686   223B2    F213\n8499  014303D1   77F62    5AE1\n8500  B092BA29   5A8AB    AA6B\n\n[8501 rows x 3 columns]",
      "text/html": "<div>\n<style scoped>\n    .dataframe tbody tr th:only-of-type {\n        vertical-align: middle;\n    }\n\n    .dataframe tbody tr th {\n        vertical-align: top;\n    }\n\n    .dataframe thead th {\n        text-align: right;\n    }\n</style>\n<table border=\"1\" class=\"dataframe\">\n  <thead>\n    <tr style=\"text-align: right;\">\n      <th></th>\n      <th>Level_1</th>\n      <th>Level_2</th>\n      <th>Level_3</th>\n    </tr>\n  </thead>\n  <tbody>\n    <tr>\n      <th>0</th>\n      <td>69286F45</td>\n      <td>2D5A3</td>\n      <td>28A7</td>\n    </tr>\n    <tr>\n      <th>1</th>\n      <td>69286F45</td>\n      <td>2D5A3</td>\n      <td>28A7</td>\n    </tr>\n    <tr>\n      <th>2</th>\n      <td>69286F45</td>\n      <td>2D5A3</td>\n      <td>28A7</td>\n    </tr>\n    <tr>\n      <th>3</th>\n      <td>EFEF723B</td>\n      <td>CB803</td>\n      <td>627D</td>\n    </tr>\n    <tr>\n      <th>4</th>\n      <td>EFEF723B</td>\n      <td>CB803</td>\n      <td>627D</td>\n    </tr>\n    <tr>\n      <th>...</th>\n      <td>...</td>\n      <td>...</td>\n      <td>...</td>\n    </tr>\n    <tr>\n      <th>8496</th>\n      <td>B092BA29</td>\n      <td>5A8AB</td>\n      <td>AA6B</td>\n    </tr>\n    <tr>\n      <th>8497</th>\n      <td>AAC8EE56</td>\n      <td>9B69F</td>\n      <td>80C4</td>\n    </tr>\n    <tr>\n      <th>8498</th>\n      <td>4C3D8686</td>\n      <td>223B2</td>\n      <td>F213</td>\n    </tr>\n    <tr>\n      <th>8499</th>\n      <td>014303D1</td>\n      <td>77F62</td>\n      <td>5AE1</td>\n    </tr>\n    <tr>\n      <th>8500</th>\n      <td>B092BA29</td>\n      <td>5A8AB</td>\n      <td>AA6B</td>\n    </tr>\n  </tbody>\n</table>\n<p>8501 rows × 3 columns</p>\n</div>"
     },
     "execution_count": 185,
     "metadata": {},
     "output_type": "execute_result"
    }
   ],
   "source": [
    "y_train"
   ],
   "metadata": {
    "collapsed": false,
    "pycharm": {
     "name": "#%%\n"
    }
   }
  },
  {
   "cell_type": "code",
   "execution_count": 186,
   "metadata": {},
   "outputs": [],
   "source": [
    "# You might need to take classes as separate columns (depends on you how you do things)\n",
    "class1_train = y_train['Level_1'].astype(str)\n",
    "class1_test = y_test['Level_1'].astype(str)\n",
    "class2_train = y_train['Level_2'].astype(str)\n",
    "class2_test = y_test['Level_2'].astype(str)\n",
    "class3_train = y_train['Level_3'].astype(str)\n",
    "class3_test = y_test['Level_3'].astype(str)\n"
   ]
  },
  {
   "cell_type": "markdown",
   "metadata": {},
   "source": [
    "## Model training for the three levels (8 marks)"
   ]
  },
  {
   "cell_type": "code",
   "execution_count": 187,
   "outputs": [
    {
     "data": {
      "text/plain": "        0      1      2      3      4      5      6      7      8      9      \\\n0     0.04961    0.0    0.0    0.0    0.0    0.0    0.0    0.0    0.0    0.0   \n1     0.00000    0.0    0.0    0.0    0.0    0.0    0.0    0.0    0.0    0.0   \n2     0.00000    0.0    0.0    0.0    0.0    0.0    0.0    0.0    0.0    0.0   \n3     0.00000    0.0    0.0    0.0    0.0    0.0    0.0    0.0    0.0    0.0   \n4     0.00000    0.0    0.0    0.0    0.0    0.0    0.0    0.0    0.0    0.0   \n...       ...    ...    ...    ...    ...    ...    ...    ...    ...    ...   \n8496  0.00000    0.0    0.0    0.0    0.0    0.0    0.0    0.0    0.0    0.0   \n8497  0.00000    0.0    0.0    0.0    0.0    0.0    0.0    0.0    0.0    0.0   \n8498  0.00000    0.0    0.0    0.0    0.0    0.0    0.0    0.0    0.0    0.0   \n8499  0.00000    0.0    0.0    0.0    0.0    0.0    0.0    0.0    0.0    0.0   \n8500  0.00000    0.0    0.0    0.0    0.0    0.0    0.0    0.0    0.0    0.0   \n\n      ...  16310  16311  16312  16313  16314  16315  16316  16317  16318  \\\n0     ...    0.0    0.0    0.0    0.0    0.0    0.0    0.0    0.0    0.0   \n1     ...    0.0    0.0    0.0    0.0    0.0    0.0    0.0    0.0    0.0   \n2     ...    0.0    0.0    0.0    0.0    0.0    0.0    0.0    0.0    0.0   \n3     ...    0.0    0.0    0.0    0.0    0.0    0.0    0.0    0.0    0.0   \n4     ...    0.0    0.0    0.0    0.0    0.0    0.0    0.0    0.0    0.0   \n...   ...    ...    ...    ...    ...    ...    ...    ...    ...    ...   \n8496  ...    0.0    0.0    0.0    0.0    0.0    0.0    0.0    0.0    0.0   \n8497  ...    0.0    0.0    0.0    0.0    0.0    0.0    0.0    0.0    0.0   \n8498  ...    0.0    0.0    0.0    0.0    0.0    0.0    0.0    0.0    0.0   \n8499  ...    0.0    0.0    0.0    0.0    0.0    0.0    0.0    0.0    0.0   \n8500  ...    0.0    0.0    0.0    0.0    0.0    0.0    0.0    0.0    0.0   \n\n      16319  \n0       0.0  \n1       0.0  \n2       0.0  \n3       0.0  \n4       0.0  \n...     ...  \n8496    0.0  \n8497    0.0  \n8498    0.0  \n8499    0.0  \n8500    0.0  \n\n[8501 rows x 16320 columns]",
      "text/html": "<div>\n<style scoped>\n    .dataframe tbody tr th:only-of-type {\n        vertical-align: middle;\n    }\n\n    .dataframe tbody tr th {\n        vertical-align: top;\n    }\n\n    .dataframe thead th {\n        text-align: right;\n    }\n</style>\n<table border=\"1\" class=\"dataframe\">\n  <thead>\n    <tr style=\"text-align: right;\">\n      <th></th>\n      <th>0</th>\n      <th>1</th>\n      <th>2</th>\n      <th>3</th>\n      <th>4</th>\n      <th>5</th>\n      <th>6</th>\n      <th>7</th>\n      <th>8</th>\n      <th>9</th>\n      <th>...</th>\n      <th>16310</th>\n      <th>16311</th>\n      <th>16312</th>\n      <th>16313</th>\n      <th>16314</th>\n      <th>16315</th>\n      <th>16316</th>\n      <th>16317</th>\n      <th>16318</th>\n      <th>16319</th>\n    </tr>\n  </thead>\n  <tbody>\n    <tr>\n      <th>0</th>\n      <td>0.04961</td>\n      <td>0.0</td>\n      <td>0.0</td>\n      <td>0.0</td>\n      <td>0.0</td>\n      <td>0.0</td>\n      <td>0.0</td>\n      <td>0.0</td>\n      <td>0.0</td>\n      <td>0.0</td>\n      <td>...</td>\n      <td>0.0</td>\n      <td>0.0</td>\n      <td>0.0</td>\n      <td>0.0</td>\n      <td>0.0</td>\n      <td>0.0</td>\n      <td>0.0</td>\n      <td>0.0</td>\n      <td>0.0</td>\n      <td>0.0</td>\n    </tr>\n    <tr>\n      <th>1</th>\n      <td>0.00000</td>\n      <td>0.0</td>\n      <td>0.0</td>\n      <td>0.0</td>\n      <td>0.0</td>\n      <td>0.0</td>\n      <td>0.0</td>\n      <td>0.0</td>\n      <td>0.0</td>\n      <td>0.0</td>\n      <td>...</td>\n      <td>0.0</td>\n      <td>0.0</td>\n      <td>0.0</td>\n      <td>0.0</td>\n      <td>0.0</td>\n      <td>0.0</td>\n      <td>0.0</td>\n      <td>0.0</td>\n      <td>0.0</td>\n      <td>0.0</td>\n    </tr>\n    <tr>\n      <th>2</th>\n      <td>0.00000</td>\n      <td>0.0</td>\n      <td>0.0</td>\n      <td>0.0</td>\n      <td>0.0</td>\n      <td>0.0</td>\n      <td>0.0</td>\n      <td>0.0</td>\n      <td>0.0</td>\n      <td>0.0</td>\n      <td>...</td>\n      <td>0.0</td>\n      <td>0.0</td>\n      <td>0.0</td>\n      <td>0.0</td>\n      <td>0.0</td>\n      <td>0.0</td>\n      <td>0.0</td>\n      <td>0.0</td>\n      <td>0.0</td>\n      <td>0.0</td>\n    </tr>\n    <tr>\n      <th>3</th>\n      <td>0.00000</td>\n      <td>0.0</td>\n      <td>0.0</td>\n      <td>0.0</td>\n      <td>0.0</td>\n      <td>0.0</td>\n      <td>0.0</td>\n      <td>0.0</td>\n      <td>0.0</td>\n      <td>0.0</td>\n      <td>...</td>\n      <td>0.0</td>\n      <td>0.0</td>\n      <td>0.0</td>\n      <td>0.0</td>\n      <td>0.0</td>\n      <td>0.0</td>\n      <td>0.0</td>\n      <td>0.0</td>\n      <td>0.0</td>\n      <td>0.0</td>\n    </tr>\n    <tr>\n      <th>4</th>\n      <td>0.00000</td>\n      <td>0.0</td>\n      <td>0.0</td>\n      <td>0.0</td>\n      <td>0.0</td>\n      <td>0.0</td>\n      <td>0.0</td>\n      <td>0.0</td>\n      <td>0.0</td>\n      <td>0.0</td>\n      <td>...</td>\n      <td>0.0</td>\n      <td>0.0</td>\n      <td>0.0</td>\n      <td>0.0</td>\n      <td>0.0</td>\n      <td>0.0</td>\n      <td>0.0</td>\n      <td>0.0</td>\n      <td>0.0</td>\n      <td>0.0</td>\n    </tr>\n    <tr>\n      <th>...</th>\n      <td>...</td>\n      <td>...</td>\n      <td>...</td>\n      <td>...</td>\n      <td>...</td>\n      <td>...</td>\n      <td>...</td>\n      <td>...</td>\n      <td>...</td>\n      <td>...</td>\n      <td>...</td>\n      <td>...</td>\n      <td>...</td>\n      <td>...</td>\n      <td>...</td>\n      <td>...</td>\n      <td>...</td>\n      <td>...</td>\n      <td>...</td>\n      <td>...</td>\n      <td>...</td>\n    </tr>\n    <tr>\n      <th>8496</th>\n      <td>0.00000</td>\n      <td>0.0</td>\n      <td>0.0</td>\n      <td>0.0</td>\n      <td>0.0</td>\n      <td>0.0</td>\n      <td>0.0</td>\n      <td>0.0</td>\n      <td>0.0</td>\n      <td>0.0</td>\n      <td>...</td>\n      <td>0.0</td>\n      <td>0.0</td>\n      <td>0.0</td>\n      <td>0.0</td>\n      <td>0.0</td>\n      <td>0.0</td>\n      <td>0.0</td>\n      <td>0.0</td>\n      <td>0.0</td>\n      <td>0.0</td>\n    </tr>\n    <tr>\n      <th>8497</th>\n      <td>0.00000</td>\n      <td>0.0</td>\n      <td>0.0</td>\n      <td>0.0</td>\n      <td>0.0</td>\n      <td>0.0</td>\n      <td>0.0</td>\n      <td>0.0</td>\n      <td>0.0</td>\n      <td>0.0</td>\n      <td>...</td>\n      <td>0.0</td>\n      <td>0.0</td>\n      <td>0.0</td>\n      <td>0.0</td>\n      <td>0.0</td>\n      <td>0.0</td>\n      <td>0.0</td>\n      <td>0.0</td>\n      <td>0.0</td>\n      <td>0.0</td>\n    </tr>\n    <tr>\n      <th>8498</th>\n      <td>0.00000</td>\n      <td>0.0</td>\n      <td>0.0</td>\n      <td>0.0</td>\n      <td>0.0</td>\n      <td>0.0</td>\n      <td>0.0</td>\n      <td>0.0</td>\n      <td>0.0</td>\n      <td>0.0</td>\n      <td>...</td>\n      <td>0.0</td>\n      <td>0.0</td>\n      <td>0.0</td>\n      <td>0.0</td>\n      <td>0.0</td>\n      <td>0.0</td>\n      <td>0.0</td>\n      <td>0.0</td>\n      <td>0.0</td>\n      <td>0.0</td>\n    </tr>\n    <tr>\n      <th>8499</th>\n      <td>0.00000</td>\n      <td>0.0</td>\n      <td>0.0</td>\n      <td>0.0</td>\n      <td>0.0</td>\n      <td>0.0</td>\n      <td>0.0</td>\n      <td>0.0</td>\n      <td>0.0</td>\n      <td>0.0</td>\n      <td>...</td>\n      <td>0.0</td>\n      <td>0.0</td>\n      <td>0.0</td>\n      <td>0.0</td>\n      <td>0.0</td>\n      <td>0.0</td>\n      <td>0.0</td>\n      <td>0.0</td>\n      <td>0.0</td>\n      <td>0.0</td>\n    </tr>\n    <tr>\n      <th>8500</th>\n      <td>0.00000</td>\n      <td>0.0</td>\n      <td>0.0</td>\n      <td>0.0</td>\n      <td>0.0</td>\n      <td>0.0</td>\n      <td>0.0</td>\n      <td>0.0</td>\n      <td>0.0</td>\n      <td>0.0</td>\n      <td>...</td>\n      <td>0.0</td>\n      <td>0.0</td>\n      <td>0.0</td>\n      <td>0.0</td>\n      <td>0.0</td>\n      <td>0.0</td>\n      <td>0.0</td>\n      <td>0.0</td>\n      <td>0.0</td>\n      <td>0.0</td>\n    </tr>\n  </tbody>\n</table>\n<p>8501 rows × 16320 columns</p>\n</div>"
     },
     "execution_count": 187,
     "metadata": {},
     "output_type": "execute_result"
    }
   ],
   "source": [
    "X_train"
   ],
   "metadata": {
    "collapsed": false,
    "pycharm": {
     "name": "#%%\n"
    }
   }
  },
  {
   "cell_type": "code",
   "execution_count": 188,
   "metadata": {},
   "outputs": [
    {
     "name": "stdout",
     "output_type": "stream",
     "text": [
      "0.7365945437441204\n"
     ]
    }
   ],
   "source": [
    "\n",
    "# Create and save model for level 1\n",
    "model = GaussianNB()\n",
    "model.fit(X_train, class1_train)\n",
    "print(model.score(X_test, class1_test))\n",
    "with open('level1.pk', mode='wb') as l1:\n",
    "    pickle.dump(model, l1)\n"
   ]
  },
  {
   "cell_type": "code",
   "execution_count": 189,
   "outputs": [],
   "source": [
    "def process_levels(classes, level, y, suffix = ''):\n",
    "    for level_class in classes:\n",
    "        rows = y_train.loc[y_train[level]== level_class].index.values\n",
    "        train_X = X_train.iloc[rows]\n",
    "        train_y = y.iloc[rows]\n",
    "        m = GaussianNB()\n",
    "        m.fit(train_X, train_y)\n",
    "        with open(f'{level_class}_{suffix}.pk', mode='wb') as lm:\n",
    "            pickle.dump(m, lm)"
   ],
   "metadata": {
    "collapsed": false,
    "pycharm": {
     "name": "#%%\n"
    }
   }
  },
  {
   "cell_type": "code",
   "execution_count": 190,
   "metadata": {},
   "outputs": [],
   "source": [
    "## Create and save models for level 2\n",
    "process_levels(class1_train.unique(), 'Level_1', class2_train, 'level2')"
   ]
  },
  {
   "cell_type": "code",
   "execution_count": 191,
   "metadata": {},
   "outputs": [],
   "source": [
    "## Create and save models for level 3\n",
    "process_levels(class2_train.unique(), 'Level_2', class3_train, 'level3')"
   ]
  },
  {
   "cell_type": "markdown",
   "metadata": {},
   "source": [
    "## Predict the test set (8 marks)"
   ]
  },
  {
   "cell_type": "code",
   "execution_count": 192,
   "metadata": {},
   "outputs": [],
   "source": [
    "# Creating an empty Dataframe with column names only (depends on you how you do things)\n",
    "results = pd.DataFrame(columns=['Level1_Pred', 'Level2_Pred', 'Level3_Pred'])\n",
    "\n",
    "## Here we reload the saved models and use them to predict the levels\n",
    "# load model for level 1 (done for you)\n",
    "level1 = []\n",
    "level2 = []\n",
    "level3 = []\n",
    "with open('level1.pk', 'rb') as nb:\n",
    "     model = pickle.load(nb)\n",
    "     for row in X_test.to_numpy():\n",
    "        sample = row.reshape(1,-1)\n",
    "        predicted_level1 = model.predict(sample)[0]\n",
    "        level1.append(predicted_level1)\n",
    "        with open(f'{predicted_level1}_level2.pk', 'rb') as l2:\n",
    "            model2 = pickle.load(l2)\n",
    "            predicted_level2 = model2.predict(sample)[0]\n",
    "            level2.append(predicted_level2)\n",
    "            with open(f'{predicted_level2}_level3.pk', 'rb') as l3:\n",
    "                model3 = pickle.load(l3)\n",
    "                predicted_level3 = model3.predict(sample)[0]\n",
    "                level3.append(predicted_level3)\n",
    "\n",
    "results['Level1_Pred'] = level1\n",
    "results['Level2_Pred'] = level2\n",
    "results['Level3_Pred'] = level3\n",
    "\n",
    "## loop through the test data, predict level 1, then based on that predict level 2\n",
    "## and based on level 2 predict level 3 (you need to load saved models accordingly)\n",
    "\n",
    "    "
   ]
  },
  {
   "cell_type": "code",
   "execution_count": 193,
   "metadata": {},
   "outputs": [
    {
     "data": {
      "text/plain": "     Level1_Pred Level2_Pred Level3_Pred\n0       57164AC1       94728        5912\n1       35E04739       390F1        6856\n2       57164AC1       94728        5912\n3       B092BA29       375FE        1F61\n4       57164AC1       94728        5912\n...          ...         ...         ...\n2121    B092BA29       5A8AB        AA6B\n2122    35E04739       390F1        6856\n2123    B092BA29       5A8AB        AA6B\n2124    2CEC27F1       ADAD6        98CF\n2125    D410C91A       ACD06        33D1\n\n[2126 rows x 3 columns]",
      "text/html": "<div>\n<style scoped>\n    .dataframe tbody tr th:only-of-type {\n        vertical-align: middle;\n    }\n\n    .dataframe tbody tr th {\n        vertical-align: top;\n    }\n\n    .dataframe thead th {\n        text-align: right;\n    }\n</style>\n<table border=\"1\" class=\"dataframe\">\n  <thead>\n    <tr style=\"text-align: right;\">\n      <th></th>\n      <th>Level1_Pred</th>\n      <th>Level2_Pred</th>\n      <th>Level3_Pred</th>\n    </tr>\n  </thead>\n  <tbody>\n    <tr>\n      <th>0</th>\n      <td>57164AC1</td>\n      <td>94728</td>\n      <td>5912</td>\n    </tr>\n    <tr>\n      <th>1</th>\n      <td>35E04739</td>\n      <td>390F1</td>\n      <td>6856</td>\n    </tr>\n    <tr>\n      <th>2</th>\n      <td>57164AC1</td>\n      <td>94728</td>\n      <td>5912</td>\n    </tr>\n    <tr>\n      <th>3</th>\n      <td>B092BA29</td>\n      <td>375FE</td>\n      <td>1F61</td>\n    </tr>\n    <tr>\n      <th>4</th>\n      <td>57164AC1</td>\n      <td>94728</td>\n      <td>5912</td>\n    </tr>\n    <tr>\n      <th>...</th>\n      <td>...</td>\n      <td>...</td>\n      <td>...</td>\n    </tr>\n    <tr>\n      <th>2121</th>\n      <td>B092BA29</td>\n      <td>5A8AB</td>\n      <td>AA6B</td>\n    </tr>\n    <tr>\n      <th>2122</th>\n      <td>35E04739</td>\n      <td>390F1</td>\n      <td>6856</td>\n    </tr>\n    <tr>\n      <th>2123</th>\n      <td>B092BA29</td>\n      <td>5A8AB</td>\n      <td>AA6B</td>\n    </tr>\n    <tr>\n      <th>2124</th>\n      <td>2CEC27F1</td>\n      <td>ADAD6</td>\n      <td>98CF</td>\n    </tr>\n    <tr>\n      <th>2125</th>\n      <td>D410C91A</td>\n      <td>ACD06</td>\n      <td>33D1</td>\n    </tr>\n  </tbody>\n</table>\n<p>2126 rows × 3 columns</p>\n</div>"
     },
     "execution_count": 193,
     "metadata": {},
     "output_type": "execute_result"
    }
   ],
   "source": [
    "## After you add the predictions to the results dataframe\n",
    "## they should look like this\n",
    "results"
   ]
  },
  {
   "cell_type": "markdown",
   "metadata": {},
   "source": [
    "## Compute Accuracy on each level (4 marks)\n",
    "Now you have the predictions for each level (in the test data), and you also have the actual levels, you can compute the accurcay"
   ]
  },
  {
   "cell_type": "code",
   "execution_count": 194,
   "metadata": {},
   "outputs": [
    {
     "data": {
      "text/plain": "0.7365945437441204"
     },
     "execution_count": 194,
     "metadata": {},
     "output_type": "execute_result"
    }
   ],
   "source": [
    "from sklearn.metrics import accuracy_score\n",
    "# Level 1 accuracy\n",
    "accuracy_score(class1_test, results['Level1_Pred'])"
   ]
  },
  {
   "cell_type": "code",
   "execution_count": 195,
   "metadata": {},
   "outputs": [
    {
     "data": {
      "text/plain": "0.6495766698024459"
     },
     "execution_count": 195,
     "metadata": {},
     "output_type": "execute_result"
    }
   ],
   "source": [
    "# Level 2 accuracy\n",
    "accuracy_score(class2_test, results['Level2_Pred'])"
   ]
  },
  {
   "cell_type": "code",
   "execution_count": 196,
   "metadata": {},
   "outputs": [
    {
     "data": {
      "text/plain": "0.6392285983066792"
     },
     "execution_count": 196,
     "metadata": {},
     "output_type": "execute_result"
    }
   ],
   "source": [
    "# Level 3 accuracy\n",
    "accuracy_score(class3_test, results['Level3_Pred'])"
   ]
  },
  {
   "cell_type": "markdown",
   "metadata": {},
   "source": [
    "## Well done!"
   ]
  }
 ],
 "metadata": {
  "interpreter": {
   "hash": "6d65a8c07f5b6469e0fc613f182488c0dccce05038bbda39e5ac9075c0454d11"
  },
  "kernelspec": {
   "name": "python397jvsc74a57bd00a33fb6ce74bb533630450cfde4c03e09656dfeab085adeb621cf99737f4e15b",
   "language": "python",
   "display_name": "Python 3.9.7 64-bit ('base': conda)"
  },
  "language_info": {
   "codemirror_mode": {
    "name": "ipython",
    "version": 3
   },
   "file_extension": ".py",
   "mimetype": "text/x-python",
   "name": "python",
   "nbconvert_exporter": "python",
   "pygments_lexer": "ipython3",
   "version": "3.8.1"
  }
 },
 "nbformat": 4,
 "nbformat_minor": 4
}