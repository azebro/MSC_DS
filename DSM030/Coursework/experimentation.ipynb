{
 "cells": [
  {
   "cell_type": "code",
   "execution_count": 1,
   "metadata": {},
   "outputs": [],
   "source": [
    "import numpy as np\n",
    "import pandas as pd \n",
    "\n"
   ]
  },
  {
   "cell_type": "code",
   "execution_count": 2,
   "metadata": {},
   "outputs": [],
   "source": [
    "df = pd.read_csv('product-cat-dataset.csv')"
   ]
  },
  {
   "cell_type": "code",
   "execution_count": 3,
   "metadata": {},
   "outputs": [
    {
     "data": {
      "text/plain": "<bound method NDFrame.describe of                                              Description   Level_1 Level_2  \\\n0      gerb cap help keep littl on head cov warm day ...  09BF5150   C7E19   \n1      newborn inf toddl boy hoody jacket oshkosh b g...  2CEC27F1   ADAD6   \n2      tut ballet anym leap foxy fash ruffl tul toddl...  09BF5150   C7E19   \n3      newborn inf toddl boy hoody jacket oshkosh b g...  2CEC27F1   ADAD6   \n4      easy keep feel warm cozy inf toddl girl hoody ...  2CEC27F1   ADAD6   \n...                                                  ...       ...     ...   \n10644  term 10 issu on year subscriptionyo sav 75 cov...  90A8B052   C719A   \n10645  term 12 issu on year subscriptionyo sav 86 cov...  90A8B052   C719A   \n10646  term 9 issu on year subscriptionyo sav 64 cov ...  90A8B052   C719A   \n10647  term 26 issu on year subscriptionyo sav 54 cov...  90A8B052   C719A   \n10648  term 12 issu on year subscriptionyo sav 60 cov...  90A8B052   C719A   \n\n      Level_3  \n0        D06E  \n1        98CF  \n2        D06E  \n3        98CF  \n4        98CF  \n...       ...  \n10644    A0E2  \n10645    A0E2  \n10646    A0E2  \n10647    A0E2  \n10648    A0E2  \n\n[10649 rows x 4 columns]>"
     },
     "execution_count": 3,
     "metadata": {},
     "output_type": "execute_result"
    }
   ],
   "source": [
    "df.describe"
   ]
  },
  {
   "cell_type": "code",
   "execution_count": 5,
   "outputs": [
    {
     "data": {
      "text/plain": "                                             Description   Level_1 Level_2  \\\n0      gerb cap help keep littl on head cov warm day ...  09BF5150   C7E19   \n1      newborn inf toddl boy hoody jacket oshkosh b g...  2CEC27F1   ADAD6   \n2      tut ballet anym leap foxy fash ruffl tul toddl...  09BF5150   C7E19   \n3      newborn inf toddl boy hoody jacket oshkosh b g...  2CEC27F1   ADAD6   \n4      easy keep feel warm cozy inf toddl girl hoody ...  2CEC27F1   ADAD6   \n...                                                  ...       ...     ...   \n10644  term 10 issu on year subscriptionyo sav 75 cov...  90A8B052   C719A   \n10645  term 12 issu on year subscriptionyo sav 86 cov...  90A8B052   C719A   \n10646  term 9 issu on year subscriptionyo sav 64 cov ...  90A8B052   C719A   \n10647  term 26 issu on year subscriptionyo sav 54 cov...  90A8B052   C719A   \n10648  term 12 issu on year subscriptionyo sav 60 cov...  90A8B052   C719A   \n\n      Level_3  \n0        D06E  \n1        98CF  \n2        D06E  \n3        98CF  \n4        98CF  \n...       ...  \n10644    A0E2  \n10645    A0E2  \n10646    A0E2  \n10647    A0E2  \n10648    A0E2  \n\n[10649 rows x 4 columns]",
      "text/html": "<div>\n<style scoped>\n    .dataframe tbody tr th:only-of-type {\n        vertical-align: middle;\n    }\n\n    .dataframe tbody tr th {\n        vertical-align: top;\n    }\n\n    .dataframe thead th {\n        text-align: right;\n    }\n</style>\n<table border=\"1\" class=\"dataframe\">\n  <thead>\n    <tr style=\"text-align: right;\">\n      <th></th>\n      <th>Description</th>\n      <th>Level_1</th>\n      <th>Level_2</th>\n      <th>Level_3</th>\n    </tr>\n  </thead>\n  <tbody>\n    <tr>\n      <th>0</th>\n      <td>gerb cap help keep littl on head cov warm day ...</td>\n      <td>09BF5150</td>\n      <td>C7E19</td>\n      <td>D06E</td>\n    </tr>\n    <tr>\n      <th>1</th>\n      <td>newborn inf toddl boy hoody jacket oshkosh b g...</td>\n      <td>2CEC27F1</td>\n      <td>ADAD6</td>\n      <td>98CF</td>\n    </tr>\n    <tr>\n      <th>2</th>\n      <td>tut ballet anym leap foxy fash ruffl tul toddl...</td>\n      <td>09BF5150</td>\n      <td>C7E19</td>\n      <td>D06E</td>\n    </tr>\n    <tr>\n      <th>3</th>\n      <td>newborn inf toddl boy hoody jacket oshkosh b g...</td>\n      <td>2CEC27F1</td>\n      <td>ADAD6</td>\n      <td>98CF</td>\n    </tr>\n    <tr>\n      <th>4</th>\n      <td>easy keep feel warm cozy inf toddl girl hoody ...</td>\n      <td>2CEC27F1</td>\n      <td>ADAD6</td>\n      <td>98CF</td>\n    </tr>\n    <tr>\n      <th>...</th>\n      <td>...</td>\n      <td>...</td>\n      <td>...</td>\n      <td>...</td>\n    </tr>\n    <tr>\n      <th>10644</th>\n      <td>term 10 issu on year subscriptionyo sav 75 cov...</td>\n      <td>90A8B052</td>\n      <td>C719A</td>\n      <td>A0E2</td>\n    </tr>\n    <tr>\n      <th>10645</th>\n      <td>term 12 issu on year subscriptionyo sav 86 cov...</td>\n      <td>90A8B052</td>\n      <td>C719A</td>\n      <td>A0E2</td>\n    </tr>\n    <tr>\n      <th>10646</th>\n      <td>term 9 issu on year subscriptionyo sav 64 cov ...</td>\n      <td>90A8B052</td>\n      <td>C719A</td>\n      <td>A0E2</td>\n    </tr>\n    <tr>\n      <th>10647</th>\n      <td>term 26 issu on year subscriptionyo sav 54 cov...</td>\n      <td>90A8B052</td>\n      <td>C719A</td>\n      <td>A0E2</td>\n    </tr>\n    <tr>\n      <th>10648</th>\n      <td>term 12 issu on year subscriptionyo sav 60 cov...</td>\n      <td>90A8B052</td>\n      <td>C719A</td>\n      <td>A0E2</td>\n    </tr>\n  </tbody>\n</table>\n<p>10649 rows × 4 columns</p>\n</div>"
     },
     "execution_count": 5,
     "metadata": {},
     "output_type": "execute_result"
    }
   ],
   "source": [
    "df"
   ],
   "metadata": {
    "collapsed": false,
    "pycharm": {
     "name": "#%%\n"
    }
   }
  },
  {
   "cell_type": "code",
   "execution_count": null,
   "outputs": [],
   "source": [],
   "metadata": {
    "collapsed": false,
    "pycharm": {
     "name": "#%%\n"
    }
   }
  }
 ],
 "metadata": {
  "kernelspec": {
   "name": "python3",
   "language": "python",
   "display_name": "Python 3"
  },
  "orig_nbformat": 4
 },
 "nbformat": 4,
 "nbformat_minor": 2
}