{
 "cells": [
  {
   "cell_type": "code",
   "execution_count": 2,
   "metadata": {},
   "outputs": [],
   "source": [
    "import numpy as np\n",
    "import pandas as pd \n",
    "\n"
   ]
  },
  {
   "cell_type": "code",
   "execution_count": 3,
   "metadata": {},
   "outputs": [],
   "source": [
    "df = pd.read_csv('product-cat-dataset.csv')"
   ]
  },
  {
   "cell_type": "code",
   "execution_count": 7,
   "metadata": {},
   "outputs": [
    {
     "data": {
      "text/plain": [
       "<bound method NDFrame.describe of                                              Description   Level_1 Level_2  \\\n",
       "0      gerb cap help keep littl on head cov warm day ...  09BF5150   C7E19   \n",
       "1      newborn inf toddl boy hoody jacket oshkosh b g...  2CEC27F1   ADAD6   \n",
       "2      tut ballet anym leap foxy fash ruffl tul toddl...  09BF5150   C7E19   \n",
       "3      newborn inf toddl boy hoody jacket oshkosh b g...  2CEC27F1   ADAD6   \n",
       "4      easy keep feel warm cozy inf toddl girl hoody ...  2CEC27F1   ADAD6   \n",
       "...                                                  ...       ...     ...   \n",
       "10644  term 10 issu on year subscriptionyo sav 75 cov...  90A8B052   C719A   \n",
       "10645  term 12 issu on year subscriptionyo sav 86 cov...  90A8B052   C719A   \n",
       "10646  term 9 issu on year subscriptionyo sav 64 cov ...  90A8B052   C719A   \n",
       "10647  term 26 issu on year subscriptionyo sav 54 cov...  90A8B052   C719A   \n",
       "10648  term 12 issu on year subscriptionyo sav 60 cov...  90A8B052   C719A   \n",
       "\n",
       "      Level_3  \n",
       "0        D06E  \n",
       "1        98CF  \n",
       "2        D06E  \n",
       "3        98CF  \n",
       "4        98CF  \n",
       "...       ...  \n",
       "10644    A0E2  \n",
       "10645    A0E2  \n",
       "10646    A0E2  \n",
       "10647    A0E2  \n",
       "10648    A0E2  \n",
       "\n",
       "[10649 rows x 4 columns]>"
      ]
     },
     "execution_count": 7,
     "metadata": {},
     "output_type": "execute_result"
    }
   ],
   "source": [
    "df.describe\n"
   ]
  }
 ],
 "metadata": {
  "kernelspec": {
   "display_name": "Python 3.8 - AzureML",
   "language": "python",
   "name": "python38-azureml"
  },
  "orig_nbformat": 4
 },
 "nbformat": 4,
 "nbformat_minor": 2
}
